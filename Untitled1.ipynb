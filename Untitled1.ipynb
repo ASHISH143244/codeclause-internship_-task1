{
 "cells": [
  {
   "cell_type": "markdown",
   "id": "06420635",
   "metadata": {},
   "source": [
    "# Ashish kumar dhimaan\n",
    "# task 1 : CodeClause_URLshortener"
   ]
  },
  {
   "cell_type": "markdown",
   "id": "b5b142ed",
   "metadata": {},
   "source": []
  },
  {
   "cell_type": "code",
   "execution_count": 1,
   "id": "c6368b6f",
   "metadata": {},
   "outputs": [],
   "source": [
    "import pyperclip\n",
    "import pyshorteners\n",
    "\n",
    "from tkinter import *                # tkinter for GUI design\n",
    "\n",
    "#define GUI for shortener\n",
    "import urlshortener as urlshortener\n",
    "\n",
    "root = Tk()\n",
    "\n",
    "#set the geometry\n",
    "# root.geometry(\"400*200\")\n",
    "\n",
    "# give a title\n",
    "root.title(\"URL Shortener\")\n",
    "\n",
    "#set a background color\n",
    "root.configure(bg=\"#49A\")\n",
    "\n",
    "#take 2 string variable for keep long and short URL\n",
    "url = StringVar()\n",
    "url_address = StringVar()\n",
    "\n",
    "#define 2 function for shortening url and copy the url\n",
    "def urlshortener():\n",
    "    urladdress = url.get()\n",
    "    url_short = pyshorteners.Shortener().tinyurl.short(urladdress)\n",
    "    url_address.set(url_short)\n",
    "\n",
    "def copyurl():\n",
    "    url_short = url_address.get()\n",
    "    pyperclip.copy(url_short)\n",
    "\n",
    "Label(root , text=\"My URL Shortener\" , font=\"poppins\").pack(pady=10)\n",
    "Entry(root, textvariable=url).pack(pady=5)\n",
    "Button(root, text=\"Generate Short URL\", command=urlshortener).pack(pady=7)\n",
    "Entry(root, textvariable=url_address).pack(pady=5)\n",
    "Button(root, text=\"Copy URL\",command=copyurl).pack(pady=5)\n",
    "\n",
    "root.mainloop()\n",
    "\n",
    "\n"
   ]
  },
  {
   "cell_type": "code",
   "execution_count": null,
   "id": "5eeb4899",
   "metadata": {},
   "outputs": [],
   "source": []
  },
  {
   "cell_type": "code",
   "execution_count": 2,
   "id": "802239fe",
   "metadata": {},
   "outputs": [
    {
     "name": "stdout",
     "output_type": "stream",
     "text": [
      "pygame 2.1.3 (SDL 2.0.22, Python 3.9.13)\n",
      "Hello from the pygame community. https://www.pygame.org/contribute.html\n"
     ]
    }
   ],
   "source": []
  },
  {
   "cell_type": "code",
   "execution_count": null,
   "id": "6dd97996",
   "metadata": {},
   "outputs": [],
   "source": []
  },
  {
   "cell_type": "code",
   "execution_count": null,
   "id": "63908b55",
   "metadata": {},
   "outputs": [],
   "source": []
  },
  {
   "cell_type": "code",
   "execution_count": null,
   "id": "f432ad11",
   "metadata": {},
   "outputs": [],
   "source": []
  }
 ],
 "metadata": {
  "kernelspec": {
   "display_name": "Python 3 (ipykernel)",
   "language": "python",
   "name": "python3"
  },
  "language_info": {
   "codemirror_mode": {
    "name": "ipython",
    "version": 3
   },
   "file_extension": ".py",
   "mimetype": "text/x-python",
   "name": "python",
   "nbconvert_exporter": "python",
   "pygments_lexer": "ipython3",
   "version": "3.9.13"
  }
 },
 "nbformat": 4,
 "nbformat_minor": 5
}
